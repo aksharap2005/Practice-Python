{
 "cells": [
  {
   "cell_type": "code",
   "execution_count": 12,
   "metadata": {},
   "outputs": [
    {
     "name": "stdout",
     "output_type": "stream",
     "text": [
      "6\n"
     ]
    }
   ],
   "source": [
    "num=int(input(\"Enter first number\"))\n",
    "num1=int(input(\"Enter 2nd number\"))\n",
    "num2=int(input(\"Enter 3rd number\"))\n",
    "\n",
    "def var():\n",
    "    if num==num1==num2:\n",
    "        print(num1**3)\n",
    "    else: \n",
    "        sum=num+num1+num2\n",
    "        print(sum)\n",
    "var()\n",
    "    \n",
    "    "
   ]
  },
  {
   "cell_type": "code",
   "execution_count": 12,
   "metadata": {},
   "outputs": [
    {
     "name": "stdout",
     "output_type": "stream",
     "text": [
      "Consonant\n"
     ]
    }
   ],
   "source": [
    "#wap to check if the entered char is vowel or consonant with if else\n",
    "\n",
    "var=input(\"Enter a character\")\n",
    "def vowel():\n",
    "    if var=='a'or var=='e'or var=='i'or var=='o'or var=='u':\n",
    "        print(\"Vowels\")\n",
    "    elif var=='A'or var=='E'or var=='I'or var=='O'or var=='U':\n",
    "        print(\"Vowels\")\n",
    "    else:\n",
    "        print(\"Consonant\")\n",
    "vowel()\n"
   ]
  },
  {
   "cell_type": "code",
   "execution_count": 11,
   "metadata": {},
   "outputs": [
    {
     "name": "stdout",
     "output_type": "stream",
     "text": [
      "Consonant\n"
     ]
    }
   ],
   "source": [
    "#wap to check if the entered char is vowel or consonant match case\n",
    "\n",
    "var=input(\"Enter a character\")\n",
    "def vowel():\n",
    "    match var:\n",
    "        case 'a':\n",
    "            print(\"Vowel\")\n",
    "        case 'e':\n",
    "            print(\"Vowel\")\n",
    "        case 'i':\n",
    "            print(\"Vowel\")\n",
    "        case 'o':\n",
    "            print(\"Vowel\")\n",
    "        case 'u':\n",
    "            print(\"Vowel\")\n",
    "        case _:\n",
    "            print(\"Consonant\")\n",
    "vowel()\n",
    "\n"
   ]
  },
  {
   "cell_type": "code",
   "execution_count": 14,
   "metadata": {},
   "outputs": [
    {
     "ename": "SyntaxError",
     "evalue": "name capture 'ipynb' makes remaining patterns unreachable (1262882709.py, line 5)",
     "output_type": "error",
     "traceback": [
      "\u001b[1;36m  Cell \u001b[1;32mIn[14], line 5\u001b[1;36m\u001b[0m\n\u001b[1;33m    case ipynb:\u001b[0m\n\u001b[1;37m         ^\u001b[0m\n\u001b[1;31mSyntaxError\u001b[0m\u001b[1;31m:\u001b[0m name capture 'ipynb' makes remaining patterns unreachable\n"
     ]
    }
   ],
   "source": [
    "#input file name with extension and output only extension\n",
    "var=input(\"Enter file name\")\n",
    "def extension():   \n",
    "    match(var):\n",
    "        case ipynb:\n",
    "            print(\"ipynb\")\n",
    "        case _:\n",
    "            print(\"No file\")"
   ]
  },
  {
   "cell_type": "code",
   "execution_count": null,
   "metadata": {},
   "outputs": [],
   "source": []
  }
 ],
 "metadata": {
  "kernelspec": {
   "display_name": "Python 3",
   "language": "python",
   "name": "python3"
  },
  "language_info": {
   "codemirror_mode": {
    "name": "ipython",
    "version": 3
   },
   "file_extension": ".py",
   "mimetype": "text/x-python",
   "name": "python",
   "nbconvert_exporter": "python",
   "pygments_lexer": "ipython3",
   "version": "3.12.1"
  }
 },
 "nbformat": 4,
 "nbformat_minor": 2
}
